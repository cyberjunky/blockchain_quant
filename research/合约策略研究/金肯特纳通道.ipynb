{
 "cells": [
  {
   "cell_type": "markdown",
   "metadata": {},
   "source": [
    "# 金肯特纳改进版"
   ]
  },
  {
   "cell_type": "code",
   "execution_count": 1,
   "metadata": {},
   "outputs": [
    {
     "name": "stderr",
     "output_type": "stream",
     "text": [
      "c:\\users\\administrator\\anaconda3\\envs\\myproject\\lib\\site-packages\\numpy\\_distributor_init.py:30: UserWarning: loaded more than 1 DLL from .libs:\n",
      "c:\\users\\administrator\\anaconda3\\envs\\myproject\\lib\\site-packages\\numpy\\.libs\\libopenblas.NOIJJG62EMASZI6NYURL6JBKM4EVBGM7.gfortran-win_amd64.dll\n",
      "c:\\users\\administrator\\anaconda3\\envs\\myproject\\lib\\site-packages\\numpy\\.libs\\libopenblas.PYQHXLVVQ7VESDPUVUADXEVJOBGHJPAY.gfortran-win_amd64.dll\n",
      "  warnings.warn(\"loaded more than 1 DLL from .libs:\\n%s\" %\n"
     ]
    }
   ],
   "source": [
    "#encoding=\"utf-8\"\n",
    "import pandas as pd\n",
    "import time \n",
    "import json\n",
    "import requests\n",
    "import numpy as np\n",
    "import talib\n",
    "pd.set_option('display.max_rows', None)\n",
    "pd.set_option('display.max_columns',None)"
   ]
  },
  {
   "cell_type": "code",
   "execution_count": 2,
   "metadata": {},
   "outputs": [],
   "source": [
    "# 获取火币或者T8或者币安历史合约K线数据\n",
    "def get_future_klinedata0(platform, symbol):\n",
    "    if platform == 'huobi':\n",
    "        try:\n",
    "            now = int(time.time())\n",
    "            start_time = now - 86400*1000\n",
    "            contract_code = \"{}-usdt\".format(symbol).upper()\n",
    "            url = huobifuture_api_url + '/linear-swap-ex/market/history/kline?contract_code={}&period=1day&from={}&to={}'.format(\n",
    "                contract_code, start_time, now)\n",
    "            res = requests.get(url)\n",
    "            resdict = json.loads(res.content.decode())\n",
    "            df = pd.DataFrame()\n",
    "            df['close'] = [i['close'] for i in resdict['data']]\n",
    "            df['high'] = [i['high'] for i in resdict['data']]\n",
    "            df['low'] = [i['low'] for i in resdict['data']]\n",
    "            df['open'] = [i['open'] for i in resdict['data']]\n",
    "        except Exception as e:\n",
    "            df = pd.DataFrame()\n",
    "        finally:\n",
    "            return df\n",
    "    elif platform == \"T8ex\":\n",
    "        try:\n",
    "            contract_id_dict = {'BTC': 1, 'ETH': 2, 'LINK': 3, 'EOS': 4, 'FIL': 5, 'LTC': 6, 'UNI': 7, 'DOT': 8,\n",
    "                                'DOGE': 9}\n",
    "            contract_id = contract_id_dict[symbol.upper()]\n",
    "            now = int(time.time())\n",
    "            start_time = now - 86400*2000\n",
    "            url = T8ex_kline_url + \"?contractId={}&from={}&to={}&resolution={}\".format(contract_id, start_time * 1000,now * 1000,\"1D\")\n",
    "            res = requests.get(url).json()\n",
    "            df = pd.DataFrame()\n",
    "            df['close'] = [i[4] for i in res]\n",
    "            df['high'] = [i[2] for i in res]\n",
    "            df['low'] = [i[3] for i in res]\n",
    "            df['open'] = [i[1] for i in res]\n",
    "        except Exception as e:\n",
    "            df = pd.DataFrame()\n",
    "        finally:\n",
    "            return df\n",
    "\n",
    "    elif platform == \"binance\":\n",
    "        try:\n",
    "            url = 'https://dapi.binance.com/dapi/v1/continuousKlines'\n",
    "            pair = \"{}usd\".format(symbol).upper()\n",
    "            now = int(time.time())\n",
    "            start_time = now - 86400 * 400\n",
    "            data = {'pair': pair, 'contractType': \"PERPETUAL\", 'interval': '1d', 'starttime': start_time * 1000,\n",
    "                    'endtime': now * 1000}\n",
    "            res = requests.get(url, params=data, timeout=1).json()\n",
    "            df = pd.DataFrame()\n",
    "            df['high'] = [i[2] for i in res]\n",
    "            df['low'] = [i[3] for i in res]\n",
    "            df['close'] = [i[4] for i in res]\n",
    "        except Exception as e:\n",
    "            df = pd.DataFrame()\n",
    "        finally:\n",
    "            return df"
   ]
  },
  {
   "cell_type": "code",
   "execution_count": 3,
   "metadata": {},
   "outputs": [],
   "source": [
    "contract_id_dict = {'BTC': 1, 'ETH': 2, 'LINK': 3, 'EOS': 4, 'FIL': 5, 'LTC': 6, 'UNI': 7, 'DOT': 8,'DOGE': 9}"
   ]
  },
  {
   "cell_type": "code",
   "execution_count": 4,
   "metadata": {},
   "outputs": [],
   "source": [
    "T8ex_kline_url=\"http://47.241.181.195:1060/contract-market/history\"\n",
    "huobifuture_api_url='https://api.btcgateway.pro'\n",
    "df=get_future_klinedata0(\"huobi\",\"doge\")\n",
    "df['high/low/close']=(df['high']+df['low']+df['close'])/3\n",
    "hlc=np.array(df['high/low/close'].values.tolist())"
   ]
  },
  {
   "cell_type": "code",
   "execution_count": 5,
   "metadata": {},
   "outputs": [],
   "source": [
    "df['hlc_MA']=df['high/low/close'].ewm(14).mean()"
   ]
  },
  {
   "cell_type": "code",
   "execution_count": 6,
   "metadata": {},
   "outputs": [],
   "source": [
    "hlc_ema=talib.EMA(hlc,14)"
   ]
  },
  {
   "cell_type": "code",
   "execution_count": 7,
   "metadata": {},
   "outputs": [],
   "source": [
    "df['hlc_MA']=hlc_ema"
   ]
  },
  {
   "cell_type": "code",
   "execution_count": 8,
   "metadata": {},
   "outputs": [],
   "source": [
    "# 收盘价\n",
    "close = np.array(df['close'])\n",
    "# 最高价\n",
    "high = np.array(df['high'])\n",
    "# 最低价\n",
    "low = np.array(df['low'])\n",
    "# 获取最新的ATR值\n",
    "atr = talib.ATR(high, low, close, timeperiod=14)\n",
    "df['atr']=atr"
   ]
  },
  {
   "cell_type": "code",
   "execution_count": 9,
   "metadata": {},
   "outputs": [],
   "source": [
    "df['up']=df['hlc_MA']+0.8*df['atr']\n",
    "df['down']=df['hlc_MA']-0.8*df['atr']"
   ]
  },
  {
   "cell_type": "code",
   "execution_count": 10,
   "metadata": {},
   "outputs": [],
   "source": [
    "df['buy']=np.where(df['open']>df['up'],1,0)\n",
    "df['sell']=np.where(df['open']<df['down'],1,0)"
   ]
  },
  {
   "cell_type": "code",
   "execution_count": 11,
   "metadata": {},
   "outputs": [
    {
     "name": "stdout",
     "output_type": "stream",
     "text": [
      "-----------15----------开空\n",
      "-----------16-----------平空\n",
      "-----------17----------开多\n",
      "-----------34----------平多\n",
      "-----------61----------开多\n",
      "-----------69----------平多\n",
      "-----------72----------开空\n",
      "-----------78-----------平空\n",
      "-----------89----------开多\n",
      "-----------119----------平多\n",
      "-----------129----------开空\n",
      "-----------140-----------平空\n",
      "-----------157----------开空\n",
      "-----------167-----------平空\n",
      "-----------177----------开空\n",
      "-----------189-----------平空\n",
      "-----------195----------开多\n",
      "-----------198----------平多\n",
      "-----------207----------开多\n",
      "-----------223----------平多\n",
      "-----------238----------开空\n"
     ]
    }
   ],
   "source": [
    "#双向交易\n",
    "flag=0\n",
    "direction=[]\n",
    "buy_list=df['buy'].values.tolist()\n",
    "sell_list=df['sell'].values.tolist()\n",
    "close_list=df['close'].values.tolist()\n",
    "hlc_list=df['hlc_MA'].values.tolist()\n",
    "for i in range(len(buy_list)):\n",
    "    if flag==0:#没有持仓\n",
    "        if buy_list[i]==1:\n",
    "            print(\"-----------{}----------开多\".format(i))\n",
    "            direction.append(1)\n",
    "            flag=1\n",
    "        elif sell_list[i]==1:\n",
    "            print(\"-----------{}----------开空\".format(i))\n",
    "            direction.append(-1)\n",
    "            flag=-1\n",
    "        else:\n",
    "            direction.append(0)\n",
    "            flag=0\n",
    "    elif flag==1:#持有多仓\n",
    "        if close_list[i]<hlc_list[i]:\n",
    "            print(\"-----------{}----------平多\".format(i))\n",
    "            direction.append(0)\n",
    "            flag=0\n",
    "        else:\n",
    "            direction.append(1)\n",
    "            flag=1\n",
    "    elif flag==-1:#持有空仓\n",
    "        if close_list[i]>hlc_list[i]:\n",
    "            print(\"-----------{}-----------平空\".format(i))\n",
    "            direction.append(0)\n",
    "            flag=0\n",
    "        else:\n",
    "            direction.append(-1)\n",
    "            flag=-1"
   ]
  },
  {
   "cell_type": "code",
   "execution_count": 13,
   "metadata": {},
   "outputs": [
    {
     "data": {
      "text/plain": [
       "<AxesSubplot:>"
      ]
     },
     "execution_count": 13,
     "metadata": {},
     "output_type": "execute_result"
    },
    {
     "data": {
      "image/png": "[encoded data removed]",
      "text/plain": [
       "<Figure size 720x432 with 1 Axes>"
      ]
     },
     "metadata": {
      "needs_background": "light"
     },
     "output_type": "display_data"
    }
   ],
   "source": [
    "df.loc[:,'return']=np.log(df['close']/df['close'].shift())\n",
    "df.loc[:,'direction']=np.array(direction)\n",
    "df.loc[:,'Strategy']=df['direction'].shift()*df['return']*3\n",
    "df[['return','Strategy']].cumsum().apply(np.exp).plot(figsize=(10,6))"
   ]
  },
  {
   "cell_type": "code",
   "execution_count": null,
   "metadata": {},
   "outputs": [],
   "source": []
  },
  {
   "cell_type": "code",
   "execution_count": null,
   "metadata": {},
   "outputs": [],
   "source": []
  }
 ],
 "metadata": {
  "kernelspec": {
   "display_name": "Python 3",
   "language": "python",
   "name": "python3"
  },
  "language_info": {
   "codemirror_mode": {
    "name": "ipython",
    "version": 3
   },
   "file_extension": ".py",
   "mimetype": "text/x-python",
   "name": "python",
   "nbconvert_exporter": "python",
   "pygments_lexer": "ipython3",
   "version": "3.8.5"
  }
 },
 "nbformat": 4,
 "nbformat_minor": 4
}
