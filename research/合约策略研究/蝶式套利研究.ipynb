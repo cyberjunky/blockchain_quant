{
 "cells": [
  {
   "cell_type": "code",
   "execution_count": 1,
   "metadata": {},
   "outputs": [],
   "source": [
    "import pandas as pd\n",
    "import requests\n",
    "import matplotlib.pyplot as plt\n",
    "import seaborn as sns\n",
    "import numpy as np\n",
    "import time\n",
    "import json\n",
    "%matplotlib inline"
   ]
  },
  {
   "cell_type": "code",
   "execution_count": 2,
   "metadata": {},
   "outputs": [],
   "source": [
    "symbol='FIL'"
   ]
  },
  {
   "cell_type": "code",
   "execution_count": 3,
   "metadata": {},
   "outputs": [],
   "source": [
    "# df = pd.read_csv(r'D:\\python-project\\robot-project\\market-robot\\research\\1420b2081ecd122522d.csv',index_col = 0)\n",
    "# df.index = pd.to_datetime(df.index)\n",
    "# df.tail(3)\n",
    "# #永续价格\n",
    "# df['BTCUSD_PERP'].dropna().plot(figsize=(15,6),grid=True);\n",
    "# # 次季-永续的差价\n",
    "# (df['BTCUSD_201225']-df['BTCUSD_PERP']).dropna().plot(figsize=(15,6),grid=True);\n",
    "# # 当季-永续的差价\n",
    "# (df['BTCUSD_200925']-df['BTCUSD_PERP']).dropna().plot(figsize=(15,6),grid=True);\n",
    "# # 次季-当季的差价\n",
    "# (df['BTCUSD_201225']-df['BTCUSD_200925']).dropna().plot(figsize=(15,6),grid=True);\n",
    "# #（次季-当季）-（当季-永续）\n",
    "# (df['BTCUSD_201225']-df['BTCUSD_200925']-(df['BTCUSD_200925']-df['BTCUSD_PERP'])).dropna().plot(figsize=(15,6),grid=True);\n",
    "# #ETH的差价\n",
    "# (df['ETHUSD_201225']+df['ETHUSD_PERP']-2*df['ETHUSD_200925']).dropna().plot(figsize=(15,6),grid=True);\n",
    "# trade_symbols = ['BTCUSD_201225', 'BTCUSD_200925', 'BTCUSD_PERP']\n",
    "# account = []\n",
    "# diff = df['BTCUSD_201225']+df['BTCUSD_PERP']-2*df['BTCUSD_200925']"
   ]
  },
  {
   "cell_type": "code",
   "execution_count": 4,
   "metadata": {},
   "outputs": [],
   "source": [
    "period=300\n",
    "contract_type='this_week' #当周\n",
    "period_dict = {60: \"1min\", 300: \"5min\", 900: \"15min\", 1800: \"30min\", 3600: \"60min\", 14400: \"4hour\", 86400: \"1day\"}\n",
    "contract_type_dict = {\"this_week\": \"CW\", \"next_week\": \"NW\", \"quarter\": \"CQ\",\"next_quarter\":\"NQ\"}\n",
    "res = requests.get(\"https://api.btcgateway.pro/market/history/kline?period={}&size=2000&symbol={}_{}\".format(\n",
    "            period_dict[period], symbol.upper(), contract_type_dict[contract_type]))\n",
    "resdict = json.loads(res.content.decode())\n",
    "cw=[] #当周\n",
    "for i in resdict['data']:\n",
    "    cw.append(i['close'])"
   ]
  },
  {
   "cell_type": "code",
   "execution_count": 5,
   "metadata": {},
   "outputs": [],
   "source": [
    "period=300\n",
    "contract_type='quarter' #当季\n",
    "period_dict = {60: \"1min\", 300: \"5min\", 900: \"15min\", 1800: \"30min\", 3600: \"60min\", 14400: \"4hour\", 86400: \"1day\"}\n",
    "contract_type_dict = {\"this_week\": \"CW\", \"next_week\": \"NW\", \"quarter\": \"CQ\",\"next_quarter\":\"NQ\"}\n",
    "res2 = requests.get(\"https://api.btcgateway.pro/market/history/kline?period={}&size=2000&symbol={}_{}\".format(\n",
    "            period_dict[period], symbol.upper(), contract_type_dict[contract_type]))\n",
    "resdict2= json.loads(res2.content.decode())\n",
    "cq=[]\n",
    "for i in resdict2['data']:\n",
    "    cq.append(i['close'])"
   ]
  },
  {
   "cell_type": "code",
   "execution_count": 6,
   "metadata": {},
   "outputs": [],
   "source": [
    "period=300\n",
    "contract_type='next_week' #次周\n",
    "period_dict = {60: \"1min\", 300: \"5min\", 900: \"15min\", 1800: \"30min\", 3600: \"60min\", 14400: \"4hour\", 86400: \"1day\"}\n",
    "contract_type_dict = {\"this_week\": \"CW\", \"next_week\": \"NW\", \"quarter\": \"CQ\",\"next_quarter\":\"NQ\"}\n",
    "res3 = requests.get(\"https://api.btcgateway.pro/market/history/kline?period={}&size=2000&symbol={}_{}\".format(\n",
    "            period_dict[period], symbol.upper(), contract_type_dict[contract_type]))\n",
    "resdict3= json.loads(res2.content.decode())\n",
    "nw=[]\n",
    "for i in resdict3['data']:\n",
    "    nw.append(i['close'])"
   ]
  },
  {
   "cell_type": "code",
   "execution_count": 7,
   "metadata": {},
   "outputs": [],
   "source": [
    "# now=int(time.time())\n",
    "# start_time=now-599700\n",
    "# url='https://api.btcgateway.pro/linear-swap-ex/market/history/kline?contract_code={}-USDT&period=5min&from={}&to={}'.format(symbol,start_time,now)\n",
    "# res3=requests.get(url)\n",
    "# resdict3= json.loads(res3.content.decode())\n",
    "# nw=[]\n",
    "# for i in resdict3['data']:\n",
    "#     nw.append(i['close'])"
   ]
  },
  {
   "cell_type": "code",
   "execution_count": 8,
   "metadata": {},
   "outputs": [
    {
     "data": {
      "text/plain": [
       "[52.001,\n",
       " 52.982,\n",
       " 52.913,\n",
       " 52.938,\n",
       " 52.725,\n",
       " 51.829,\n",
       " 52.242,\n",
       " 51.503,\n",
       " 51.678,\n",
       " 52.079]"
      ]
     },
     "execution_count": 8,
     "metadata": {},
     "output_type": "execute_result"
    }
   ],
   "source": [
    "cw[-10:] #当周"
   ]
  },
  {
   "cell_type": "code",
   "execution_count": 9,
   "metadata": {},
   "outputs": [
    {
     "data": {
      "text/plain": [
       "[53.102, 53.892, 53.838, 53.757, 53.306, 52.5, 52.718, 52.189, 52.749, 53.047]"
      ]
     },
     "execution_count": 9,
     "metadata": {},
     "output_type": "execute_result"
    }
   ],
   "source": [
    "cq[-10:] #当季"
   ]
  },
  {
   "cell_type": "code",
   "execution_count": 10,
   "metadata": {},
   "outputs": [
    {
     "data": {
      "text/plain": [
       "[53.102, 53.892, 53.838, 53.757, 53.306, 52.5, 52.718, 52.189, 52.749, 53.047]"
      ]
     },
     "execution_count": 10,
     "metadata": {},
     "output_type": "execute_result"
    }
   ],
   "source": [
    "nw[-10:] #次周"
   ]
  },
  {
   "cell_type": "code",
   "execution_count": 11,
   "metadata": {},
   "outputs": [],
   "source": [
    "df=pd.DataFrame()\n",
    "df['当周']=cw\n",
    "df['当季']=cq\n",
    "df['次周']=nw"
   ]
  },
  {
   "cell_type": "code",
   "execution_count": 12,
   "metadata": {},
   "outputs": [
    {
     "data": {
      "text/plain": [
       "<AxesSubplot:>"
      ]
     },
     "execution_count": 12,
     "metadata": {},
     "output_type": "execute_result"
    },
    {
     "data": {
      "image/png": "[encoded data removed]",
      "text/plain": [
       "<Figure size 1080x432 with 1 Axes>"
      ]
     },
     "metadata": {
      "needs_background": "light"
     },
     "output_type": "display_data"
    }
   ],
   "source": [
    "(df['当季']+df['次周']-2*df['当周']).dropna().plot(figsize=(15,6),grid=True)"
   ]
  },
  {
   "cell_type": "code",
   "execution_count": 13,
   "metadata": {},
   "outputs": [],
   "source": [
    "class Exchange:\n",
    "    def __init__(self, trade_symbols, leverage=20, maker_fee=0.0002,taker_fee=0.0004,log='',initial_balance=10000):\n",
    "        self.initial_balance = initial_balance #初始的资产\n",
    "        self.taker_fee = taker_fee\n",
    "        self.maker_fee = maker_fee\n",
    "        self.leverage = leverage\n",
    "        self.trade_symbols = trade_symbols\n",
    "        self.date = ''\n",
    "        self.log = log\n",
    "        self.df = pd.DataFrame()\n",
    "        self.account = {'USDT':{'realised_profit':0, 'margin':0, 'unrealised_profit':0, \n",
    "                                'total':initial_balance, 'leverage':0, 'fee':0,'maker_fee':0,'taker_fee':0}}\n",
    "        for symbol in trade_symbols:\n",
    "            self.account[symbol] = {'amount':0, 'hold_price':0, 'value':0, 'price':0, 'realised_profit':0,\n",
    "                                    'margin':0, 'unrealised_profit':0,'fee':0}\n",
    "            \n",
    "    def Trade(self, symbol, direction, price, amount, msg='', maker=True):\n",
    "        \n",
    "        if (self.date and symbol == self.log) or self.log == 'all':\n",
    "            print('%-26s%-15s%-5s%-10.8s%-8.6s %s'%(str(self.date)[:24], symbol, 'buy' if direction == 1 else 'sell', price, amount, msg))\n",
    "\n",
    "        cover_amount = 0 if direction*self.account[symbol]['amount'] >=0 else min(abs(self.account[symbol]['amount']), amount)\n",
    "        open_amount = amount - cover_amount\n",
    "        if maker:\n",
    "            self.account['USDT']['realised_profit'] -= price*amount*self.maker_fee #扣除手续费\n",
    "            self.account['USDT']['maker_fee'] += price*amount*self.maker_fee\n",
    "            self.account['USDT']['fee'] += price*amount*self.maker_fee\n",
    "            self.account[symbol]['fee'] += price*amount*self.maker_fee\n",
    "        else:\n",
    "            self.account['USDT']['realised_profit'] -= price*amount*self.taker_fee #扣除手续费\n",
    "            self.account['USDT']['taker_fee'] += price*amount*self.taker_fee\n",
    "            self.account['USDT']['fee'] += price*amount*self.taker_fee\n",
    "            self.account[symbol]['fee'] += price*amount*self.taker_fee\n",
    "\n",
    "        if cover_amount > 0: #先平仓\n",
    "            self.account['USDT']['realised_profit'] += -direction*(price - self.account[symbol]['hold_price'])*cover_amount  #利润\n",
    "            self.account['USDT']['margin'] -= cover_amount*self.account[symbol]['hold_price']/self.leverage #释放保证金\n",
    "            \n",
    "            self.account[symbol]['realised_profit'] += -direction*(price - self.account[symbol]['hold_price'])*cover_amount\n",
    "            self.account[symbol]['amount'] -= -direction*cover_amount\n",
    "            self.account[symbol]['margin'] -=  cover_amount*self.account[symbol]['hold_price']/self.leverage\n",
    "            self.account[symbol]['hold_price'] = 0 if self.account[symbol]['amount'] == 0 else self.account[symbol]['hold_price']\n",
    "            \n",
    "        if open_amount > 0:\n",
    "            total_cost = self.account[symbol]['hold_price']*direction*self.account[symbol]['amount'] + price*open_amount\n",
    "            total_amount = direction*self.account[symbol]['amount']+open_amount\n",
    "            \n",
    "            self.account['USDT']['margin'] +=  open_amount*price/self.leverage            \n",
    "            self.account[symbol]['hold_price'] = total_cost/total_amount\n",
    "            self.account[symbol]['amount'] += direction*open_amount\n",
    "            self.account[symbol]['margin'] +=  open_amount*price/self.leverage\n",
    "            \n",
    "        self.account[symbol]['unrealised_profit'] = (price - self.account[symbol]['hold_price'])*self.account[symbol]['amount']\n",
    "        self.account[symbol]['price'] = price\n",
    "        self.account[symbol]['value'] = abs(self.account[symbol]['amount'])*price\n",
    "        \n",
    "    \n",
    "    def Buy(self, symbol, price, amount, msg='', maker=False):\n",
    "        self.Trade(symbol, 1, price, amount, msg, maker)\n",
    "        \n",
    "    def Sell(self, symbol, price, amount, msg='', maker=False):\n",
    "        self.Trade(symbol, -1, price, amount, msg,maker)\n",
    "        \n",
    "\n",
    "    def Update(self, date, symbols, close_price): #对资产进行更新\n",
    "        self.date = date\n",
    "        self.close = close_price\n",
    "        self.account['USDT']['unrealised_profit'] = 0\n",
    "        for symbol in symbols:\n",
    "            self.account[symbol]['unrealised_profit'] = (close_price[symbol] - self.account[symbol]['hold_price'])*self.account[symbol]['amount']\n",
    "            self.account[symbol]['price'] = close_price[symbol]\n",
    "            self.account[symbol]['value'] = abs(self.account[symbol]['amount'])*close_price[symbol]\n",
    "            \n",
    "            self.account['USDT']['unrealised_profit'] += self.account[symbol]['unrealised_profit']\n",
    "        self.account['USDT']['total'] = round(self.account['USDT']['realised_profit'] + self.initial_balance + self.account['USDT']['unrealised_profit'],6)\n",
    "        self.account['USDT']['leverage'] = round(self.account['USDT']['margin']*self.leverage/self.account['USDT']['total'],4)"
   ]
  },
  {
   "cell_type": "code",
   "execution_count": 14,
   "metadata": {},
   "outputs": [],
   "source": [
    "#trade_symbols = ['当季','当周','永续']\n",
    "trade_symbols=['次周','当周','当季']\n",
    "account = []"
   ]
  },
  {
   "cell_type": "code",
   "execution_count": 15,
   "metadata": {},
   "outputs": [],
   "source": [
    "diff = df['当季']+df['次周']-2*df['当周']\n",
    "diff_mean = diff.ewm(alpha=0.001).mean()"
   ]
  },
  {
   "cell_type": "code",
   "execution_count": 16,
   "metadata": {},
   "outputs": [],
   "source": [
    "e = Exchange(trade_symbols,initial_balance=10000,taker_fee=0.0004)"
   ]
  },
  {
   "cell_type": "code",
   "execution_count": 17,
   "metadata": {},
   "outputs": [
    {
     "data": {
      "image/png": "[encoded data removed]",
      "text/plain": [
       "<Figure size 1080x432 with 1 Axes>"
      ]
     },
     "metadata": {
      "needs_background": "light"
     },
     "output_type": "display_data"
    }
   ],
   "source": [
    "for row in df[trade_symbols].dropna().iloc[30:].iterrows():\n",
    "    date = row[0]\n",
    "    prices = row[1]\n",
    "    e.Update(date, trade_symbols, prices)\n",
    "    account.append([e.account['USDT']['margin'],e.account['USDT']['realised_profit']+e.account['USDT']['unrealised_profit']])\n",
    "    aim_amount = -round((diff[date] - diff_mean[date])/(30*prices[trade_symbols[2]]*0.0004),1)\n",
    "    now_amount = e.account[trade_symbols[2]]['amount']\n",
    "    if aim_amount - now_amount < -1:\n",
    "        trade_amount = 1\n",
    "        e.Buy(trade_symbols[1],prices[trade_symbols[1]],2*trade_amount)\n",
    "        e.Sell(trade_symbols[0],prices[trade_symbols[0]],trade_amount)\n",
    "        e.Sell(trade_symbols[2],prices[trade_symbols[2]],trade_amount)\n",
    "    if aim_amount - now_amount > 1:\n",
    "        trade_amount = 1\n",
    "        e.Sell(trade_symbols[1],prices[trade_symbols[1]],2*trade_amount)\n",
    "        e.Buy(trade_symbols[0],prices[trade_symbols[0]],trade_amount)\n",
    "        e.Buy(trade_symbols[2],prices[trade_symbols[2]],trade_amount)\n",
    "e.df = pd.DataFrame(index=df[trade_symbols].dropna().iloc[30:].index,columns=['margin','profit'],data=account)\n",
    "e.df['profit'].plot(figsize=(15,6),grid=True);"
   ]
  },
  {
   "cell_type": "code",
   "execution_count": 18,
   "metadata": {},
   "outputs": [],
   "source": [
    "#获取永续合约行情深度数据\n",
    "def get_perpetualdepth(symbol):\n",
    "    url=\"https://api.btcgateway.pro/linear-swap-ex/market/depth?contract_code={}-USDT&type=step0\".format(symbol.upper())\n",
    "    res=requests.get(url)\n",
    "    resdict=json.loads(res.content.decode())\n",
    "    sell1=resdict['tick']['asks'][0][0]\n",
    "    buy1=resdict['tick']['bids'][0][0]\n",
    "    return [sell1,buy1]"
   ]
  },
  {
   "cell_type": "code",
   "execution_count": 19,
   "metadata": {},
   "outputs": [],
   "source": [
    "#获取当周合约行情深度数据\n",
    "def get_futuredepth(symbol,contract_type):\n",
    "    contract_type_dict = {'this_week': 'CW', 'next_week': 'NW', 'quarter': 'CQ'}\n",
    "    contract_type=contract_type_dict[contract_type]\n",
    "    url=\"https://api.btcgateway.pro/market/depth?symbol={}_{}&type=step6\".format(symbol.upper(),contract_type)\n",
    "    res=requests.get(url)\n",
    "    resdict=json.loads(res.content.decode())\n",
    "    sell1=resdict['tick']['asks'][0][0]\n",
    "    buy1=resdict['tick']['bids'][0][0]\n",
    "    return [sell1,buy1]"
   ]
  },
  {
   "cell_type": "code",
   "execution_count": 20,
   "metadata": {},
   "outputs": [],
   "source": [
    "import threading\n",
    "class MyThread(threading.Thread):\n",
    "    def __init__(self, func, args=()):\n",
    "        super(MyThread, self).__init__()\n",
    "        self.func = func\n",
    "        self.args = args\n",
    "\n",
    "    def run(self):\n",
    "        self.result = self.func(*self.args)\n",
    "\n",
    "    def get_result(self):\n",
    "        try:\n",
    "            return self.result  # 如果子线程不使用join方法，此处可能会报没有self.result的错误\n",
    "        except Exception:\n",
    "            return None"
   ]
  },
  {
   "cell_type": "code",
   "execution_count": 21,
   "metadata": {},
   "outputs": [],
   "source": [
    "# 多线程获取合约行情深度价格\n",
    "def get_all_contract_price(symbol):\n",
    "    t1 = MyThread(get_futuredepth, args=(symbol, 'this_week',))\n",
    "    t2 = MyThread(get_futuredepth, args=(symbol, 'quarter',))\n",
    "    t3 = MyThread(get_perpetualdepth, args=(symbol,))\n",
    "    t1.start()\n",
    "    t2.start()\n",
    "    t3.start()\n",
    "    t1.join(timeout=10)\n",
    "    t2.join(timeout=10)\n",
    "    t3.join(timeout=10)\n",
    "    depth_array1 = t1.get_result() #当周\n",
    "    depth_array2 = t2.get_result() #当季\n",
    "    depth_array3 = t3.get_result() #永续\n",
    "    return depth_array1, depth_array2, depth_array3"
   ]
  },
  {
   "cell_type": "code",
   "execution_count": 22,
   "metadata": {},
   "outputs": [],
   "source": [
    "# diff_mean=0\n",
    "# Alpha=0.000001\n",
    "# fee=0.0002\n",
    "# while True:\n",
    "#     depth_array1, depth_array2, depth_array3=get_all_contract_price('btc')\n",
    "#     Grid=depth_array3[1]*fee*15\n",
    "#     diff_sell=depth_array2[1]+depth_array3[1]-2*depth_array1[0]\n",
    "#     diff_buy=depth_array2[0]+depth_array3[0]-2*depth_array1[1]\n",
    "#     if not diff_mean:\n",
    "#         diff_mean=(diff_buy+diff_sell)/2\n",
    "#     else:\n",
    "#         diff_mean=diff_mean*(1-Alpha)+Alpha*(diff_buy+diff_sell)/2\n",
    "#     aim_buy_amount=-(diff_buy-diff_mean)/Grid\n",
    "#     aim_sell_amount=-(diff_sell-diff_mean)/Grid\n",
    "#     print(aim_buy_amount,aim_sell_amount)"
   ]
  },
  {
   "cell_type": "code",
   "execution_count": 23,
   "metadata": {},
   "outputs": [],
   "source": [
    "# Grid=depth_array3[1]*fee*15\n",
    "# print(diff_mean)\n",
    "# aim_buy_amount=-(diff_buy-diff_mean)/Grid\n",
    "# aim_sell_amount=-(diff_sell-diff_mean)/Grid\n",
    "# print(aim_buy_amount,aim_sell_amount)"
   ]
  },
  {
   "cell_type": "code",
   "execution_count": 24,
   "metadata": {},
   "outputs": [],
   "source": [
    "url=\"https://api.btcgateway.pro/linear-swap-api/v1/swap_contract_info?contract_code=FIL-USDT\""
   ]
  },
  {
   "cell_type": "code",
   "execution_count": 25,
   "metadata": {},
   "outputs": [],
   "source": [
    "res=requests.get(url)"
   ]
  },
  {
   "cell_type": "code",
   "execution_count": 26,
   "metadata": {},
   "outputs": [
    {
     "name": "stdout",
     "output_type": "stream",
     "text": [
      "{'status': 'ok', 'data': [{'symbol': 'FIL', 'contract_code': 'FIL-USDT', 'contract_size': 0.1, 'price_tick': 0.001, 'delivery_time': '', 'create_date': '20201021', 'contract_status': 1, 'settlement_date': '1624291200000', 'support_margin_mode': 'all'}], 'ts': 1624274302326}\n"
     ]
    }
   ],
   "source": [
    "import json\n",
    "resdict=json.loads(res.content.decode())\n",
    "print(resdict)"
   ]
  },
  {
   "cell_type": "code",
   "execution_count": 27,
   "metadata": {},
   "outputs": [],
   "source": [
    "url='https://api.btcgateway.pro/api/v1/contract_contract_info?symbol=FIL&contract_type=this_week'"
   ]
  },
  {
   "cell_type": "code",
   "execution_count": 28,
   "metadata": {},
   "outputs": [],
   "source": [
    "res=requests.get(url)"
   ]
  },
  {
   "cell_type": "code",
   "execution_count": 29,
   "metadata": {},
   "outputs": [
    {
     "name": "stdout",
     "output_type": "stream",
     "text": [
      "{'status': 'ok', 'data': [{'symbol': 'FIL', 'contract_code': 'FIL210625', 'contract_type': 'this_week', 'contract_size': 10.0, 'price_tick': 0.001, 'delivery_date': '20210625', 'delivery_time': '1624608000000', 'create_date': '20201211', 'contract_status': 1, 'settlement_time': '1624348800000'}], 'ts': 1624274303086}\n"
     ]
    }
   ],
   "source": [
    "import json\n",
    "resdict=json.loads(res.content.decode())\n",
    "print(resdict)"
   ]
  },
  {
   "cell_type": "code",
   "execution_count": 30,
   "metadata": {},
   "outputs": [],
   "source": [
    "#适合套利的币种\n",
    "#FIL"
   ]
  }
 ],
 "metadata": {
  "kernelspec": {
   "display_name": "Python 3",
   "language": "python",
   "name": "python3"
  },
  "language_info": {
   "codemirror_mode": {
    "name": "ipython",
    "version": 3
   },
   "file_extension": ".py",
   "mimetype": "text/x-python",
   "name": "python",
   "nbconvert_exporter": "python",
   "pygments_lexer": "ipython3",
   "version": "3.8.5"
  }
 },
 "nbformat": 4,
 "nbformat_minor": 4
}
